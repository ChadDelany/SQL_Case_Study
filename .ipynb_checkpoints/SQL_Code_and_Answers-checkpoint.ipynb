{
 "cells": [
  {
   "cell_type": "markdown",
   "id": "2a4f5eaf",
   "metadata": {},
   "source": [
    "<head> <b> SQL Case Study </b> </head>"
   ]
  },
  {
   "cell_type": "markdown",
   "id": "d98ca370",
   "metadata": {},
   "source": [
    "Question 1: Some of the facilities charge a fee to members, but some do not.\n",
    "Write a SQL query to produce a list of the names of the facilities that do."
   ]
  },
  {
   "cell_type": "markdown",
   "id": "334607da",
   "metadata": {},
   "source": [
    "SELECT name AS Facility\n",
    "FROM Facilities\n",
    "WHERE membercost > 0"
   ]
  },
  {
   "cell_type": "markdown",
   "id": "89e63685",
   "metadata": {},
   "source": [
    "Facility\n",
    "Tennis Court 1\n",
    "Tennis Court 2\n",
    "Massage Room 1\n",
    "Massage Room 2\n",
    "Squash Court"
   ]
  },
  {
   "cell_type": "markdown",
   "id": "19633b13",
   "metadata": {},
   "source": []
  }
 ],
 "metadata": {
  "kernelspec": {
   "display_name": "Python 3 (ipykernel)",
   "language": "python",
   "name": "python3"
  },
  "language_info": {
   "codemirror_mode": {
    "name": "ipython",
    "version": 3
   },
   "file_extension": ".py",
   "mimetype": "text/x-python",
   "name": "python",
   "nbconvert_exporter": "python",
   "pygments_lexer": "ipython3",
   "version": "3.9.7"
  }
 },
 "nbformat": 4,
 "nbformat_minor": 5
}
