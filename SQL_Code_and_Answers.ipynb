{
 "cells": [
  {
   "cell_type": "markdown",
   "id": "a44d1414",
   "metadata": {},
   "source": [
    "<head> <b> SQL Case Study </b> </head>"
   ]
  },
  {
   "cell_type": "markdown",
   "id": "15a4498c",
   "metadata": {},
   "source": [
    "Question 1: Some of the facilities charge a fee to members, but some do not.\n",
    "Write a SQL query to produce a list of the names of the facilities that do."
   ]
  },
  {
   "cell_type": "markdown",
   "id": "a443effb",
   "metadata": {},
   "source": [
    "SELECT COUNT(facid)\n",
    "FROM Facilities\n",
    "WHERE membercost = 0"
   ]
  },
  {
   "cell_type": "markdown",
   "id": "cd8f380a",
   "metadata": {},
   "source": [
    "Facility\n",
    "Tennis Court 1\n",
    "Tennis Court 2\n",
    "Massage Room 1\n",
    "Massage Room 2\n",
    "Squash Court"
   ]
  },
  {
   "cell_type": "markdown",
   "id": "5df7256e",
   "metadata": {},
   "source": [
    "Q2: How many facilities do not charge a fee to members? "
   ]
  },
  {
   "cell_type": "code",
   "execution_count": null,
   "id": "f2f6d770",
   "metadata": {},
   "outputs": [],
   "source": [
    "SELECT COUNT(facid)\n",
    "FROM Facilities\n",
    "WHERE membercost = 0"
   ]
  },
  {
   "cell_type": "code",
   "execution_count": null,
   "id": "e24d1ef5",
   "metadata": {},
   "outputs": [],
   "source": []
  },
  {
   "cell_type": "code",
   "execution_count": null,
   "id": "d77bb567",
   "metadata": {},
   "outputs": [],
   "source": []
  }
 ],
 "metadata": {
  "kernelspec": {
   "display_name": "Python 3 (ipykernel)",
   "language": "python",
   "name": "python3"
  },
  "language_info": {
   "codemirror_mode": {
    "name": "ipython",
    "version": 3
   },
   "file_extension": ".py",
   "mimetype": "text/x-python",
   "name": "python",
   "nbconvert_exporter": "python",
   "pygments_lexer": "ipython3",
   "version": "3.9.7"
  }
 },
 "nbformat": 4,
 "nbformat_minor": 5
}
